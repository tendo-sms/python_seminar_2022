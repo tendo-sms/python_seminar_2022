{
  "nbformat": 4,
  "nbformat_minor": 0,
  "metadata": {
    "colab": {
      "provenance": [],
      "toc_visible": true
    },
    "kernelspec": {
      "name": "python3",
      "display_name": "Python 3"
    },
    "language_info": {
      "name": "python"
    }
  },
  "cells": [
    {
      "cell_type": "markdown",
      "source": [
        "# 第5回 グラフの作成\n",
        "第5回では、Matplotlibというパッケージを使ったグラフの作成についてご紹介します。\n",
        "\n",
        "また、最終回となる次回の第6回ではみなさんにプログラムの作成・実行にチャレンジしていただきますので、そこに向けた準備も行っていきます。\n",
        "\n",
        "はじめに、本講義で使用するファイルを皆さんの環境にダウンロードするため、次のコードを実行してください。"
      ],
      "metadata": {
        "id": "Fn0oKgscebci"
      }
    },
    {
      "cell_type": "code",
      "source": [
        "!wget https://github.com/tendo-sms/python_seminar_2022/raw/main/lecture5/files.zip .\n",
        "!unzip files.zip\n",
        "!mv files/* ."
      ],
      "metadata": {
        "id": "L4q4Uc_8RV1v"
      },
      "execution_count": null,
      "outputs": []
    },
    {
      "cell_type": "markdown",
      "source": [
        "# Matplotlibの紹介\n",
        "Matplotlibは、Pythonで様々なグラフを作成することができるパッケージです。"
      ],
      "metadata": {
        "id": "BJJIERVwXBh7"
      }
    },
    {
      "cell_type": "markdown",
      "source": [
        "## Matplotlibの構成要素\n",
        "Matplotlibについて学ぶにあたり、基礎知識として、Matplotlibで作成するグラフの構成要素を説明します。\n",
        "\n",
        "Matplotlibでグラフを作成する際の構成要素として、次のものがあります。\n",
        "\n",
        "* 1つ以上のグラフを描画する領域全体のことを「<font color=\"red\">**Figure**</font>」と呼びます。\n",
        "* Figure内に個々のグラフを描画する領域のことを「<font color=\"green\">**Axes**</font>」と呼びます。\n",
        "* グラフを構成する部品(目盛りラベル、グラフ自体、軸のラベルなど)それぞれのことを「<font color=\"cyan\">**Artist**</font>」と呼びます。なお、FigureやAxesもArtistです。\n",
        "\n",
        "FigureとAxesは階層構造になっていて、Figureの中に複数のAxesを持っています。\n",
        "\n",
        "![Matplotlibの構成要素](https://raw.githubusercontent.com/tendo-sms/python_seminar_2022/main/lecture5/figure/elements.png)"
      ],
      "metadata": {
        "id": "FYDqTY1pNaAd"
      }
    },
    {
      "cell_type": "markdown",
      "source": [
        "# グラフの作成\n",
        "それでは早速、Matplotlibを使ったグラフ作成の手順をご紹介します。\n",
        "\n",
        "最初は、シンプルな折れ線グラフを1つ作成する例でご説明します。\n",
        "\n",
        "折れ線グラフは、データ構造化プログラムにおいてスペクトルデータの可視化などによく利用されますので、ぜひ覚えておきましょう。\n",
        "\n",
        "全体の流れは、次のとおりです。\n",
        "\n",
        "1. モジュールのインポート\n",
        "1. Figureの作成\n",
        "1. Axesの作成\n",
        "1. 折れ線グラフのプロット\n",
        "1. グラフの画面表示\n",
        "1. グラフのクローズ"
      ],
      "metadata": {
        "id": "LqXCUYYgJjgt"
      }
    },
    {
      "cell_type": "markdown",
      "source": [
        "## モジュールのインポート\n",
        "Matplotlibを利用するときは、import文でモジュールをインポートします。\n",
        "\n",
        "Matplotlibパッケージにはいくつかのモジュールがありますが、もっともよく使用されるのが「<font color=\"red\">**matplotlib.pyplotモジュール**</font>」です。\n",
        "\n",
        "次のようにインポートします。\n",
        "\n",
        "~~~\n",
        "imoprt matplotlib.pyplot as plt\n",
        "~~~\n",
        "\n",
        "第3回では、numpyモジュールをインポートするときに慣例として「np」という別名を付けること、およびpandasモジュールをインポートするときに慣例として「pd」という別名を付けることをご紹介しました。\n",
        "\n",
        "matplotlib.pyplotモジュールをインポートするときも、慣例として「plt」という別名を付けるます。これもPythonプログラマの共通認識のようなものですので、慣例に倣うようにしてください。\n",
        "\n",
        "【注意事項】\n",
        "\n",
        "Google ColaboratoryやAnacondaでは、Matplotlibが最初からインストールされているのでimport文だけで利用できます。公式版Pythonでは最初はMatplotlibがインストールされていませんので、プログラムを作成する前に、あらかじめpipコマンドを使ってインストールしてください。\n",
        "\n",
        "~~~\n",
        "pip install matplotlib\n",
        "~~~"
      ],
      "metadata": {
        "id": "yZkpgGxX2J6N"
      }
    },
    {
      "cell_type": "markdown",
      "source": [
        "## Figureの作成\n",
        "ここから、実際にソースコードを記述していきます。\n",
        "\n",
        "最初は、グラフを描画する領域全体であるFigureを作成します。\n",
        "\n",
        "Figureの作成には、matplotlib.pyplotモジュールの「<font color=\"red\">**figure関数**</font>」を使用します。基本的な構文は次の通りです。\n",
        "\n",
        "~~~\n",
        "変数 = plt.figure()\n",
        "~~~\n",
        "\n",
        "matplotlib.pyplotモジュールをpltという別名でインポートしていますので、「matplotlib.pyplot.figure()」ではなく「plt.figure()」とする点に注意してください。\n",
        "\n",
        "これにより、作成されたFigureオブジェクトが変数に格納されます。"
      ],
      "metadata": {
        "id": "jQAb4-mJImfM"
      }
    },
    {
      "cell_type": "markdown",
      "source": [
        "## Axesの作成\n",
        "次に、Figure内に個々のグラフを描画する領域であるAxesを作成します。\n",
        "\n",
        "Axesの作成には、Figureオブジェクトの「<font color=\"red\">**subplotsメソッド**</font>」を使用します。基本的な構文は次のとおりです。\n",
        "\n",
        "~~~\n",
        "変数 = Figureオブジェクト.subplots()\n",
        "~~~\n",
        "\n",
        "これにより、作成されたAxesオブジェクトが変数に格納されます。"
      ],
      "metadata": {
        "id": "1BJIT5nIJnfi"
      }
    },
    {
      "cell_type": "markdown",
      "source": [
        "## 折れ線グラフのプロット\n",
        "次に、メインとなる折れ線グラフのプロットを行います。\n",
        "\n",
        "折れ線グラフのプロットには、Axesオブジェクトの「<font color=\"red\">**plotメソッド**</font>」を使用します。基本的な構文は次の通りです。\n",
        "\n",
        "~~~\n",
        "Axesオブジェクト.plot(X軸の配列, Y軸の配列)\n",
        "~~~\n",
        "\n",
        "X軸の配列およびY軸の配列には、リスト、pandasの1次元データ配列であるSeries、(第3回でちょっとだけご説明した)NumPyのndarrayなどを指定します。"
      ],
      "metadata": {
        "id": "DO_4yERoPREp"
      }
    },
    {
      "cell_type": "markdown",
      "source": [
        "## グラフの画面表示\n",
        "plotメソッドを実行しただけでは、グラフが画面に表示されません。\n",
        "\n",
        "グラフを表示するには、matplotlib.pyplotモジュールの「<font color=\"red\">**show関数**</font>」を使用します。基本的な構文は次のとおりです。\n",
        "\n",
        "~~~\n",
        "plt.show()\n",
        "~~~"
      ],
      "metadata": {
        "id": "P_R_xnoYKpkY"
      }
    },
    {
      "cell_type": "markdown",
      "source": [
        "## グラフのクローズ\n",
        "グラフの表示が終わったら、クローズ処理を行ってください。\n",
        "\n",
        "グラフをクローズするには、matplotlib.pyplotモジュールの「<font color=\"red\">**close関数**</font>」を使用します。基本的な構文は次のとおりです。\n",
        "\n",
        "~~~\n",
        "plt.close(Figureオブジェクト)\n",
        "~~~\n",
        "\n",
        "グラフのクローズ処理を行わないと、メモリ等のマシンリソースを無駄に消費し続けてしまいます。第3回の「標準的なファイルの読み書き」で、オープンしたファイルを最後にクローズするようご説明しましたが、それと同様です。\n",
        "\n",
        "小規模なプログラムでは実害がないためクローズを忘れてしまいがちですが、忘れずにクローズするクセを付けておきましょう。"
      ],
      "metadata": {
        "id": "6cchWSZRK4sk"
      }
    },
    {
      "cell_type": "markdown",
      "source": [
        "## 折れ線グラフを表示するソースコードの例\n",
        "ここまで、折れ線グラフの表示に必要な関数およびメソッドを順に紹介してきました。\n",
        "\n",
        "早速、これらの関数およびメソッドを使ってグラフを作成してみましょう。\n",
        "\n",
        "次のソースコードは、ここまでにご紹介した関数およびメソッドを順に実行しています。実際に動かして、結果を確認してみましょう。"
      ],
      "metadata": {
        "id": "8hRGj5xEL4ar"
      }
    },
    {
      "cell_type": "code",
      "source": [
        "import matplotlib.pyplot as plt\n",
        "\n",
        "# Figureの作成\n",
        "fig = plt.figure()\n",
        "\n",
        "# Axesの作成\n",
        "ax = fig.subplots()\n",
        "\n",
        "# 折れ線グラフのプロット\n",
        "ax.plot([1, 2, 3], [10, 100, 1000])\n",
        "\n",
        "# グラフの画面表示\n",
        "plt.show()\n",
        "\n",
        "# グラフのクローズ\n",
        "plt.close(fig)"
      ],
      "metadata": {
        "id": "UnfBPO-mT0T7"
      },
      "execution_count": null,
      "outputs": []
    },
    {
      "cell_type": "markdown",
      "source": [
        "無事、はじめてのグラフが書けましたね。\n",
        "\n",
        "【注意事項】\n",
        "\n",
        "前述のとおり、close関数を実行しなくてもグラフの作成はできてしまいます。\n",
        "\n",
        "それに加えてGoogle ColaboratoryやJupyter Notebookでは、show関数とclose関数を両方とも実行しない場合でも、グラフの作成ができてしまいます。一方、show関数を実行せずにclose関数を実行すると、グラフが作成されません・・・・\n",
        "\n",
        "いつもGoogle ColaboratoryやJupyter Notebookだけを使っていて間違った知識を付けてしまう、といったことがないよう、気を付けるようにしてください。"
      ],
      "metadata": {
        "id": "Jrm9vvDTSFH-"
      }
    },
    {
      "cell_type": "markdown",
      "source": [
        "## スペクトルデータのグラフ化\n",
        "はじめてのグラフとしてごく簡単な折れ線グラフを作成しましたが、リアリティのないデータで、あまり面白くありませんよね。\n",
        "\n",
        "そこで、スペクトルをイメージしたデータを折れ線グラフにしてみましょう。\n",
        "\n",
        "次のような内容のCSVファイル(spectrum1.csv)を読み込んで、グラフを作成します。\n",
        "\n",
        "|Wavelength|Intensity|\n",
        "|---|---|\n",
        "|300|409|\n",
        "|310|447|\n",
        "|320|383|\n",
        "|330|563|\n",
        "|以下略|以下略|\n",
        "\n",
        "CSVデータの取り扱いということで・・・そうです、pandasを使いましょう。\n",
        "\n",
        "pandasでは次のように記述することで、カラムをSeries(1次元の配列データ)として抽出できます。\n",
        "\n",
        "~~~\n",
        "データフレーム[カラム名]\n",
        "~~~\n",
        "\n",
        "Seriesについては、第4回の講義資料「pandasで取り扱うデータ形式」にて復習しておきましょう。\n",
        "\n",
        "第4回講義資料のURL：\n",
        "\n",
        "https://colab.research.google.com/drive/1SgoL61X2fP7KLDFz2Npx9VaEHiSt_IZI?usp=sharing\n",
        "\n",
        "次のとおり指定すれば、カラム名Wavelengthのカラム、およびカラム名Intensityのカラムが、それぞれSeriesとして抽出できます。\n",
        "\n",
        "~~~\n",
        "データフレーム[\"Wavelength\"]\n",
        "データフレーム[\"Intensity\"]\n",
        "~~~\n",
        "\n",
        "\n",
        "前の例では、plotメソッドの引数としてX軸となるリストとY軸となるリストを渡しました。\n",
        "\n",
        "~~~\n",
        "ax.plot([1, 2, 3], [10, 100, 1000])\n",
        "~~~\n",
        "\n",
        "これらの引数に、今度はpandasのSeriesを指定します。次のソースコードを実行してみてください。"
      ],
      "metadata": {
        "id": "5INyWOGPdVd-"
      }
    },
    {
      "cell_type": "code",
      "source": [
        "import matplotlib.pyplot as plt\n",
        "import pandas as pd\n",
        "\n",
        "# CSVファイルをデータフレームに読み込む\n",
        "df = pd.read_csv(\"spectrum1.csv\")\n",
        "\n",
        "# Figureの作成\n",
        "fig = plt.figure()\n",
        "\n",
        "# Axesの作成\n",
        "ax = fig.subplots()\n",
        "\n",
        "# 折れ線グラフのプロット\n",
        "# 引数にはpandasのSeriesを指定する\n",
        "ax.plot(df[\"Wavelength\"], df[\"Intensity\"])\n",
        "\n",
        "# グラフの画面表示\n",
        "plt.show()\n",
        "\n",
        "# グラフのクローズ\n",
        "plt.close(fig)"
      ],
      "metadata": {
        "id": "6iS6_vY9fLCC"
      },
      "execution_count": null,
      "outputs": []
    },
    {
      "cell_type": "markdown",
      "source": [
        "## 複数本の折れ線を描画する\n",
        "一つのグラフに複数本の折れ線を描画する場合、plotメソッドを次のとおり実行します。\n",
        "\n",
        "~~~\n",
        "Axesオブジェクト.plot(X軸の配列1, Y軸の配列1)\n",
        "Axesオブジェクト.plot(X軸の配列2, Y軸の配列2)\n",
        "                 ：\n",
        "                 ：\n",
        "~~~\n",
        "\n",
        "このとき、<font color=\"red\">同一のAxesオブジェクトに対して</font>複数回plotメソッドを実行するという点に注意してください。\n",
        "\n",
        "先ほどの折れ線グラフに、もう1本折れ線を追加してみましょう。\n",
        "\n",
        "次のような内容のCSVファイル(spectrum2.csv)を読み込んで、2種類のスペクトルを描画するグラフを作成します。\n",
        "\n",
        "|Wavelength|Intensity1|Intensity2|\n",
        "|---|---|---|\n",
        "|300|409|298|\n",
        "|310|447|349|\n",
        "|320|383|393|\n",
        "|330|563|480|\n",
        "|以下略|以下略|以下略|\n",
        "\n",
        "\n",
        "次のソースコードを実行してみてください。先ほどのソースコードから変更されている箇所には、コメントに「★」を入れています。"
      ],
      "metadata": {
        "id": "CUQ6G8sKE7xn"
      }
    },
    {
      "cell_type": "code",
      "source": [
        "import matplotlib.pyplot as plt\n",
        "import pandas as pd\n",
        "\n",
        "# CSVファイルをデータフレームに読み込む ★読み込むファイルを変更\n",
        "df = pd.read_csv(\"spectrum2.csv\")\n",
        "\n",
        "# Figureの作成\n",
        "fig = plt.figure()\n",
        "\n",
        "# Axesの作成\n",
        "ax = fig.subplots()\n",
        "\n",
        "# 折れ線グラフのプロット ★変更\n",
        "ax.plot(df[\"Wavelength\"], df[\"Intensity1\"])\n",
        "ax.plot(df[\"Wavelength\"], df[\"Intensity2\"])\n",
        "\n",
        "# グラフの画面表示\n",
        "plt.show()\n",
        "\n",
        "# グラフのクローズ\n",
        "plt.close(fig)"
      ],
      "metadata": {
        "id": "leM--CzYFhr_"
      },
      "execution_count": null,
      "outputs": []
    },
    {
      "cell_type": "markdown",
      "source": [
        "## 複数のグラフを並べて表示する\n",
        "先ほどのように2つのスペクトルデータを重ねて表示するのではなく、2つのグラフにして並べて表示してみましょう。\n",
        "\n",
        "ここでは、1つのFigureの中に2つのAxesを作成し、それぞれのAxesにグラフを描画します。\n",
        "\n",
        "まず、subplotsメソッドでAxesオブジェクトを作成する記述を次のようにします。\n",
        "\n",
        "~~~\n",
        "変数 = Figureオブジェクト.subplots(縦サイズ, 横サイズ)\n",
        "~~~\n",
        "\n",
        "変数には、Axesオブジェクトのリストが格納されます。リストの形式は、次のとおりとなります。\n",
        "\n",
        "* 縦サイズまたは横サイズが1の場合、1次元のリストになります。\n",
        "  * 縦サイズを2、横サイズを1とすると、Axesが縦に2つ並んで作成されます。変数名[0]が上のAxes、変数名[1]が下のAxesとなります。\n",
        "\n",
        "* 縦サイズと横サイズが両方とも2以上の場合、2次元のリストになります。\n",
        "  * 縦サイズを2、横サイズを2とすると、Axesが左上／右上／左下／右下と並んで4つ作成されます。変数名[0][0]が左上のAxes、変数名[0][1]が右上のAxes、変数名[1][0]が左下のAxes、変数名[1][1]が右下のAxesととなります。\n",
        "\n",
        "次のソースコードを実行してみてください。先ほどのソースコードから変更されている箇所には、コメントに「★」を入れています。"
      ],
      "metadata": {
        "id": "mR1DE3jMaEyL"
      }
    },
    {
      "cell_type": "code",
      "source": [
        "import matplotlib.pyplot as plt\n",
        "import pandas as pd\n",
        "\n",
        "# CSVファイルをデータフレームに読み込む\n",
        "df = pd.read_csv(\"spectrum2.csv\")\n",
        "\n",
        "# Figureの作成\n",
        "fig = plt.figure()\n",
        "    \n",
        "# Axesの作成 ★引数を変更\n",
        "ax = fig.subplots(2, 1)\n",
        "\n",
        "# 折れ線グラフのプロット ★2つのプロットに変更\n",
        "ax[0].plot(df[\"Wavelength\"], df[\"Intensity1\"])\n",
        "ax[1].plot(df[\"Wavelength\"], df[\"Intensity2\"])\n",
        "\n",
        "# グラフの画面表示\n",
        "plt.show()\n",
        "\n",
        "# グラフのクローズ\n",
        "plt.close(fig)"
      ],
      "metadata": {
        "id": "UOw7jB0iaZSj"
      },
      "execution_count": null,
      "outputs": []
    },
    {
      "cell_type": "markdown",
      "source": [
        "グラフが2つ、縦に並んで表示されましたね。確認できたら、プログラムを修正して、横に2つ並べてみてください。"
      ],
      "metadata": {
        "id": "FwVc_DIRdTzW"
      }
    },
    {
      "cell_type": "markdown",
      "source": [
        "# グラフの装飾\n",
        "グラフには、様々な装飾をつけることもできます。よく使う装飾を、いくつかご紹介します。"
      ],
      "metadata": {
        "id": "eltomd_bBKkj"
      }
    },
    {
      "cell_type": "markdown",
      "source": [
        "## 折れ線の種類を変更する\n",
        "ここまでの例では、シンプルな直線の折れ線グラフを作成してきました。ここでは、線の種類を変更するための機能をいくつかご紹介します。\n",
        "\n",
        "線の種類を変更するには、plotメソッドに引数を追加します。\n",
        "\n",
        "~~~\n",
        "Axesオブジェクト.plot(X軸の配列, Y軸の配列, 引数名1=値1, 引数名2=値2, ・・・)\n",
        "~~~\n",
        "\n",
        "よく使われる引数の例を、次に示します。\n",
        "\n",
        "|引数|意味|例|\n",
        "|---|---|---|\n",
        "|linestyle|実線・点線などを指定する|linestyle=\"--\"|\n",
        "|linewidth|線の太さを指定する|linewidth=2.0|\n",
        "|color|線の色を変更する|color=\"red\"|\n",
        "|maker|線にマーカーを付ける|marker=\"s\"|\n",
        "\n",
        "ここでは、以下の装飾をします。\n",
        "\n",
        "* Intensity1の線を赤色にします。\n",
        "* Intensity2の線を点線にします。\n",
        "\n",
        "次のソースコードを実行してみてください。先ほどのソースコードから変更されている箇所には、コメントに「★」を入れています。"
      ],
      "metadata": {
        "id": "hmj5Gi0YU3AG"
      }
    },
    {
      "cell_type": "code",
      "source": [
        "import matplotlib.pyplot as plt\n",
        "import pandas as pd\n",
        "\n",
        "# CSVファイルをデータフレームに読み込む\n",
        "df = pd.read_csv(\"spectrum2.csv\")\n",
        "\n",
        "# Figureの作成\n",
        "fig = plt.figure()\n",
        "\n",
        "# Axesの作成\n",
        "ax = fig.subplots()\n",
        "\n",
        "# 折れ線グラフのプロット ★引数を追加\n",
        "ax.plot(df[\"Wavelength\"], df[\"Intensity1\"], color=\"red\")\n",
        "ax.plot(df[\"Wavelength\"], df[\"Intensity2\"], linestyle=\"--\")\n",
        "\n",
        "# グラフの画面表示\n",
        "plt.show()\n",
        "\n",
        "# グラフのクローズ\n",
        "plt.close(fig)"
      ],
      "metadata": {
        "id": "a4j93qkwWD7n"
      },
      "execution_count": null,
      "outputs": []
    },
    {
      "cell_type": "markdown",
      "source": [
        "## グラフにタイトルを付ける\n",
        "グラフにタイトルを付けるには、Axesオブジェクトの「<font color=\"red\">**set_titleメソッド**</font>」を実行します。基本的な構文は次のとおりです。\n",
        "\n",
        "~~~\n",
        "Axesオブジェクト.set_title(ラベル文字列)\n",
        "~~~\n",
        "\n",
        "前述した2つのスペクトルを重ねたグラフに、タイトルを付けてみましょう。\n",
        "\n",
        "次のソースコードを実行してみてください。先ほどのソースコードから変更されている箇所には、コメントに「★」を入れています。"
      ],
      "metadata": {
        "id": "oD3bKF6o_mtO"
      }
    },
    {
      "cell_type": "code",
      "source": [
        "import matplotlib.pyplot as plt\n",
        "import pandas as pd\n",
        "\n",
        "# CSVファイルをデータフレームに読み込む\n",
        "df = pd.read_csv(\"spectrum2.csv\")\n",
        "\n",
        "# Figureの作成\n",
        "fig = plt.figure()\n",
        "\n",
        "# Axesの作成\n",
        "ax = fig.subplots()\n",
        "\n",
        "# 折れ線グラフのプロット\n",
        "ax.plot(df[\"Wavelength\"], df[\"Intensity1\"], color=\"red\")\n",
        "ax.plot(df[\"Wavelength\"], df[\"Intensity2\"], linestyle=\"--\")\n",
        "\n",
        "# グラフのタイトルを設定 ★追加\n",
        "ax.set_title(\"Spectrum Graph\")\n",
        "\n",
        "# グラフの画面表示\n",
        "plt.show()\n",
        "\n",
        "# グラフのクローズ\n",
        "plt.close(fig)"
      ],
      "metadata": {
        "id": "NLtIzNImAEqT"
      },
      "execution_count": null,
      "outputs": []
    },
    {
      "cell_type": "markdown",
      "source": [
        "set_titleメソッドの実行は、Axesオブジェクトを作成後、show関数を実行するまでのどこで行っても構いません。\n",
        "\n",
        "上記の例ですと、plotメソッドの前で実行しても同じ結果となります。"
      ],
      "metadata": {
        "id": "yBRMmBvHAR5-"
      }
    },
    {
      "cell_type": "code",
      "source": [
        "import matplotlib.pyplot as plt\n",
        "import pandas as pd\n",
        "\n",
        "# CSVファイルをデータフレームに読み込む\n",
        "df = pd.read_csv(\"spectrum2.csv\")\n",
        "\n",
        "# Figureの作成\n",
        "fig = plt.figure()\n",
        "\n",
        "# Axesの作成\n",
        "ax = fig.subplots()\n",
        "\n",
        "# グラフのタイトルを設定 ★位置を変更\n",
        "ax.set_title(\"Spectrum Graph\")\n",
        "\n",
        "# 折れ線グラフのプロット\n",
        "ax.plot(df[\"Wavelength\"], df[\"Intensity1\"], color=\"red\")\n",
        "ax.plot(df[\"Wavelength\"], df[\"Intensity2\"], linestyle=\"--\")\n",
        "\n",
        "# グラフの画面表示\n",
        "plt.show()\n",
        "\n",
        "# グラフのクローズ\n",
        "plt.close(fig)"
      ],
      "metadata": {
        "id": "Q4-nQhVHAVvf"
      },
      "execution_count": null,
      "outputs": []
    },
    {
      "cell_type": "markdown",
      "source": [
        "\n",
        "\n",
        "## 軸にラベルを付ける\n",
        "軸にラベルを付けるには、Axesオブジェクトの「<font color=\"red\">**set_xlabelメソッド**</font>」および「<font color=\"red\">**set_ylabelメソッド**</font>」を実行します。基本的な構文は次のとおりです。\n",
        "\n",
        "~~~\n",
        "Axesオブジェクト.set_xlabel(ラベル文字列)\n",
        "Axesオブジェクト.set_ylabel(ラベル文字列)\n",
        "~~~\n",
        "\n",
        "先ほどのグラフに、軸のラベルを付けてみましょう。\n",
        "\n",
        "次のソースコードを実行してみてください。先ほどのソースコードから変更されている箇所には、コメントに「★」を入れています。"
      ],
      "metadata": {
        "id": "l5yEoRuyBZ4h"
      }
    },
    {
      "cell_type": "code",
      "source": [
        "import matplotlib.pyplot as plt\n",
        "import pandas as pd\n",
        "\n",
        "# CSVファイルをデータフレームに読み込む\n",
        "df = pd.read_csv(\"spectrum2.csv\")\n",
        "\n",
        "# Figureの作成\n",
        "fig = plt.figure()\n",
        "\n",
        "# Axesの作成\n",
        "ax = fig.subplots()\n",
        "\n",
        "# 折れ線グラフのプロット\n",
        "ax.plot(df[\"Wavelength\"], df[\"Intensity1\"], color=\"red\")\n",
        "ax.plot(df[\"Wavelength\"], df[\"Intensity2\"], linestyle=\"--\")\n",
        "\n",
        "# グラフのタイトルを設定\n",
        "ax.set_title(\"Spectrum Graph\")\n",
        "\n",
        "# 軸のラベルを設定 ★追加\n",
        "ax.set_xlabel(\"Wavelength\")\n",
        "ax.set_ylabel(\"Intensity\")\n",
        "\n",
        "# グラフの画面表示\n",
        "plt.show()\n",
        "\n",
        "# グラフのクローズ\n",
        "plt.close(fig)"
      ],
      "metadata": {
        "id": "5JkE76NUDY1r"
      },
      "execution_count": null,
      "outputs": []
    },
    {
      "cell_type": "markdown",
      "source": [
        "set_xlabelメソッドおよびset_ylabelメソッドの実行は、set_titleメソッドと同様に、Axesオブジェクトを作成後、show関数を実行するまでのどこで行っても構いません。"
      ],
      "metadata": {
        "id": "gJnN9pQxDlCn"
      }
    },
    {
      "cell_type": "markdown",
      "source": [
        "## 凡例を付ける\n",
        "グラフに凡例を付けるには、Axesオブジェクトの「<font color=\"red\">**legendメソッド**</font>」を実行します。基本的な構文は次のとおりです。\n",
        "\n",
        "~~~\n",
        "Axesオブジェクト.legend()\n",
        "~~~\n",
        "\n",
        "また、凡例で表示するラベルは、plotメソッドの引数にlabelを追加して指定します。\n",
        "\n",
        "~~~\n",
        "Axesオブジェクト.plot(X軸の配列, Y軸の配列, label=ラベル)\n",
        "~~~\n",
        "\n",
        "先ほどのグラフに、凡例を付けてみます。\n",
        "\n",
        "次のソースコードを実行してみてください。先ほどのソースコードから変更されている箇所には、コメントに「★」を入れています。"
      ],
      "metadata": {
        "id": "hfbpPmh1ECT_"
      }
    },
    {
      "cell_type": "code",
      "source": [
        "import matplotlib.pyplot as plt\n",
        "import pandas as pd\n",
        "\n",
        "# CSVファイルをデータフレームに読み込む\n",
        "df = pd.read_csv(\"spectrum2.csv\")\n",
        "\n",
        "# Figureの作成\n",
        "fig = plt.figure()\n",
        "\n",
        "# Axesの作成\n",
        "ax = fig.subplots()\n",
        "\n",
        "# 折れ線グラフのプロット ★引数を変更\n",
        "ax.plot(df[\"Wavelength\"], df[\"Intensity1\"], color=\"red\", label=\"Intensity1\")\n",
        "ax.plot(df[\"Wavelength\"], df[\"Intensity2\"], linestyle=\"--\", label=\"Intensity2\")\n",
        "\n",
        "# グラフのタイトルを設定\n",
        "ax.set_title(\"Spectrum Graph\")\n",
        "\n",
        "# 軸のラベルを設定\n",
        "ax.set_xlabel(\"Wavelength\")\n",
        "ax.set_ylabel(\"Intensity\")\n",
        "\n",
        "# 凡例を設定 ★追加\n",
        "ax.legend()\n",
        "\n",
        "# グラフの画面表示\n",
        "plt.show()\n",
        "\n",
        "# グラフのクローズ\n",
        "plt.close(fig)"
      ],
      "metadata": {
        "id": "pmX6FZBTEPSj"
      },
      "execution_count": null,
      "outputs": []
    },
    {
      "cell_type": "markdown",
      "source": [
        "set_titleメソッドなどとは異なり、<font color=\"red\">legendメソッドは、plotメソッドの後で実行する必要があります</font>。注意してください。"
      ],
      "metadata": {
        "id": "YpjG_pgqGYCK"
      }
    },
    {
      "cell_type": "markdown",
      "source": [
        "## グラフの補助線を引く\n",
        "グラフに補助線を付けるには、Axesオブジェクトの「<font color=\"red\">**gridメソッド**</font>」を実行します。基本的な構文は次のとおりです。\n",
        "\n",
        "~~~\n",
        "Axesオブジェクト.grid()\n",
        "~~~\n",
        "\n",
        "先ほどのグラフに、補助線を付けてみます。\n",
        "\n",
        "次のソースコードを実行してみてください。先ほどのソースコードから変更されている箇所には、コメントに「★」を入れています。"
      ],
      "metadata": {
        "id": "FkvsOTFgTna4"
      }
    },
    {
      "cell_type": "code",
      "source": [
        "import matplotlib.pyplot as plt\n",
        "import pandas as pd\n",
        "\n",
        "# CSVファイルをデータフレームに読み込む\n",
        "df = pd.read_csv(\"spectrum2.csv\")\n",
        "\n",
        "# Figureの作成\n",
        "fig = plt.figure()\n",
        "\n",
        "# Axesの作成\n",
        "ax = fig.subplots()\n",
        "\n",
        "# 折れ線グラフのプロット\n",
        "ax.plot(df[\"Wavelength\"], df[\"Intensity1\"], color=\"red\", label=\"Intensity1\")\n",
        "ax.plot(df[\"Wavelength\"], df[\"Intensity2\"], linestyle=\"--\", label=\"Intensity2\")\n",
        "\n",
        "# グラフのタイトルを設定\n",
        "ax.set_title(\"Spectrum Graph\")\n",
        "\n",
        "# 軸のラベルを設定\n",
        "ax.set_xlabel(\"Wavelength\")\n",
        "ax.set_ylabel(\"Intensity\")\n",
        "\n",
        "# 凡例を設定\n",
        "ax.legend()\n",
        "\n",
        "# 補助線を設定 ★\n",
        "ax.grid()\n",
        "\n",
        "# グラフの画面表示\n",
        "plt.show()\n",
        "\n",
        "# グラフのクローズ\n",
        "plt.close(fig)"
      ],
      "metadata": {
        "id": "UlZQR75qT0ec"
      },
      "execution_count": null,
      "outputs": []
    },
    {
      "cell_type": "markdown",
      "source": [
        "## [ご参考] 日本語の使用について\n",
        "Matplotlibは、標準のフォントが日本語に対応していないため、タイトルや軸のラベルなどに日本語を表示することができません。\n",
        "\n",
        "グラフ内に日本語を表示するには、日本語対応のフォントに変更する必要があります。\n",
        "\n",
        "以下では、Googleによって開発されたフリーフォントである「Noto Sans JP」を使用して日本語を表示します。\n",
        "\n",
        "(ただし、凡例については特別なやり方が必要なので、ここでは日本語化していません。)\n",
        "\n",
        "フォントファイルは「NotoSansJP-Medium.otf」というファイル名で、講義の最初に必要ファイルとしてダウンロードしてあります。\n",
        "\n",
        "このファイルは以下のページからも取得出来ます。\n",
        "\n",
        "https://fonts.google.com/noto/specimen/Noto+Sans+JP?query=noto+sans+jp"
      ],
      "metadata": {
        "id": "HoeVwHCqCzZI"
      }
    },
    {
      "cell_type": "code",
      "source": [
        "import matplotlib.pyplot as plt\n",
        "import pandas as pd\n",
        "\n",
        "# フォントマネージャーのインポート ★追加\n",
        "from matplotlib import font_manager\n",
        "\n",
        "# フォントファイルをMatplotlibに認識させる ★追加\n",
        "fp = font_manager.FontProperties(fname=\"NotoSansJP-Medium.otf\")\n",
        "\n",
        "# CSVファイルをデータフレームに読み込む\n",
        "df = pd.read_csv(\"spectrum2.csv\")\n",
        "\n",
        "# Figureの作成\n",
        "fig = plt.figure()\n",
        "\n",
        "# Axesの作成\n",
        "ax = fig.subplots()\n",
        "\n",
        "# 折れ線グラフのプロット\n",
        "ax.plot(df[\"Wavelength\"], df[\"Intensity1\"], color=\"red\", label=\"Intensity1\")\n",
        "ax.plot(df[\"Wavelength\"], df[\"Intensity2\"], linestyle=\"--\", label=\"Intensity2\")\n",
        "\n",
        "# フォントの設定 ★\n",
        "hfont = {\"fontproperties\": fp, \"size\": 15}\n",
        "\n",
        "# グラフのタイトルを設定\n",
        "ax.set_title(\"スペクトルのグラフ\", **hfont)\n",
        "\n",
        "# 軸のラベルを設定\n",
        "ax.set_xlabel(\"波長\", **hfont)\n",
        "ax.set_ylabel(\"強度\", **hfont)\n",
        "\n",
        "# 凡例を設定\n",
        "ax.legend()\n",
        "\n",
        "# 補助線を設定\n",
        "ax.grid()\n",
        "\n",
        "# グラフの画面表示\n",
        "plt.show()\n",
        "\n",
        "# グラフのクローズ\n",
        "plt.close(fig)"
      ],
      "metadata": {
        "id": "szc5D3KbF2bj"
      },
      "execution_count": null,
      "outputs": []
    },
    {
      "cell_type": "markdown",
      "source": [
        "これで、日本語を表示することができました。\n",
        "\n",
        "今回はフリーフォントをダウンロードしてそれを使用しましたが、そのシステムにインストール済みの日本語対応フォントをMatplotlibが認識してくれていることもあります。\n",
        "\n",
        "その場合はset_titleメソッドなどの引数にフォントを指定するだけで日本語が表示できます。\n",
        "\n",
        "指定できるフォント一覧は、以下のようなコードで確認することが出来ます。"
      ],
      "metadata": {
        "id": "-tSCtESwJDvK"
      }
    },
    {
      "cell_type": "code",
      "source": [
        "import matplotlib.font_manager as fm\n",
        "\n",
        "font_list = [f.name for f in fm.fontManager.ttflist]\n",
        "\n",
        "font_list"
      ],
      "metadata": {
        "id": "-DajZPxCJGAq"
      },
      "execution_count": null,
      "outputs": []
    },
    {
      "cell_type": "markdown",
      "source": [
        "なお、ARIM事業のデータ構造化プログラムでは、例題でご紹介した方法で、「Noto Sans JP」を標準のフォントとして利用しています。"
      ],
      "metadata": {
        "id": "xMPynmxYJHba"
      }
    },
    {
      "cell_type": "markdown",
      "source": [
        "# 作成したグラフを保存する\n",
        "Matplotlibでグラフをファイルとして保存するときは、Figureオブジェクトの「<font color=\"red\">**savefigメソッド**</font>」を使用します。\n",
        "\n",
        "savefigメソッドでは、解像度(DPI)や出力フォーマットなどを指定できます。\n",
        "\n",
        "~~~\n",
        "Figureオブジェクト.savefig(出力ファイル名, dpi=解像度, format=出力フォーマット)\n",
        "~~~\n",
        "\n",
        "出力フォーマットは、\"jpg\"、\"png\"などといった文字列で指定します。\n",
        "\n",
        "ここでは、DPIを100、出力フォーマットをJPEGとして、先ほどの装飾を施した折れ線グラフを画像として保存する例を示します。\n",
        "\n",
        "次のソースコードを実行してみてください。先ほどのソースコードから変更されている箇所には、コメントに「★」を入れています。"
      ],
      "metadata": {
        "id": "FPmMfVLHqx2g"
      }
    },
    {
      "cell_type": "code",
      "source": [
        "import matplotlib.pyplot as plt\n",
        "import pandas as pd\n",
        "\n",
        "# CSVファイルをデータフレームに読み込む\n",
        "df = pd.read_csv(\"spectrum2.csv\")\n",
        "\n",
        "# Figureの作成\n",
        "fig = plt.figure()\n",
        "\n",
        "# Axesの作成\n",
        "ax = fig.subplots()\n",
        "\n",
        "# 折れ線グラフのプロット\n",
        "ax.plot(df[\"Wavelength\"], df[\"Intensity1\"], color=\"red\", label=\"Intensity1\")\n",
        "ax.plot(df[\"Wavelength\"], df[\"Intensity2\"], linestyle=\"--\", label=\"Intensity2\")\n",
        "\n",
        "# グラフのタイトルを設定\n",
        "ax.set_title(\"Spectrum Graph\")\n",
        "\n",
        "# 軸のラベルを設定\n",
        "ax.set_xlabel(\"Wavelength\")\n",
        "ax.set_ylabel(\"Intensity\")\n",
        "\n",
        "# 凡例を設定\n",
        "ax.legend()\n",
        "\n",
        "# 補助線を設定\n",
        "ax.grid()\n",
        "\n",
        "# グラフの画面表示\n",
        "plt.show()\n",
        "\n",
        "# グラフの保存 ★追加\n",
        "fig.savefig(\"spectrum_graph.jpg\", dpi=100, format=\"jpg\")\n",
        "\n",
        "# グラフのクローズ\n",
        "plt.close(fig)"
      ],
      "metadata": {
        "id": "nOqiqUetq62Y"
      },
      "execution_count": null,
      "outputs": []
    },
    {
      "cell_type": "markdown",
      "source": [
        "Google Colaboratory画面左のファイル一覧から、「spectrum_graph.jpg」が作成されていることを確認してみましょう。\n",
        "\n",
        "![グラフの保存](https://raw.githubusercontent.com/tendo-sms/python_seminar_2022/main/lecture5/figure/checkfile.png)"
      ],
      "metadata": {
        "id": "b4LzLuab3Kuv"
      }
    },
    {
      "cell_type": "markdown",
      "source": [
        "# 練習問題\n",
        "次のような内容のCSVファイル(spectrum3.csv)を読み込んで、1つのグラフ内に3種類のスペクトルを描画するグラフを作成してみましょう。\n",
        "\n",
        "|Wavelength|Intensity1|Intensity2|Intensity3|\n",
        "|---|---|---|---|\n",
        "|300|409|298|542|\n",
        "|310|447|349|553|\n",
        "|320|383|393|552|\n",
        "|330|563|480|613|\n",
        "|以下略|以下略|以下略|以下略|\n",
        "\n",
        "グラフのタイトル、軸のラベル、および凡例を次のとおり付けてください。\n",
        "\n",
        "* グラフのタイトルを「Practice Graph」としてください。\n",
        "* X軸のラベルを「WL」、Y軸のラベルを「Int」としてください。\n",
        "* 凡例のラベルは、「Int1」「Int2」「Int3」としてください。"
      ],
      "metadata": {
        "id": "Q4WWq0mcpTB4"
      }
    },
    {
      "cell_type": "code",
      "source": [
        "import matplotlib.pyplot as plt\n",
        "import pandas as pd\n",
        "\n",
        "# CSVファイルをデータフレームに読み込む\n",
        "df = pd.read_csv(\"spectrum3.csv\")\n",
        "\n",
        "# 以下、解答例\n",
        "\n",
        "# Figureの作成\n",
        "fig = plt.figure()\n",
        "\n",
        "# Axesの作成\n",
        "ax = fig.subplots()\n",
        "\n",
        "# 折れ線グラフのプロット\n",
        "ax.plot(df[\"Wavelength\"], df[\"Intensity1\"], label=\"Int1\")\n",
        "ax.plot(df[\"Wavelength\"], df[\"Intensity2\"], label=\"Int2\")\n",
        "ax.plot(df[\"Wavelength\"], df[\"Intensity3\"], label=\"Int3\")\n",
        "\n",
        "# グラフのタイトルを設定\n",
        "ax.set_title(\"Practice Graph\")\n",
        "\n",
        "# 軸のラベルを設定\n",
        "ax.set_xlabel(\"WL\")\n",
        "ax.set_ylabel(\"Int\")\n",
        "\n",
        "# 凡例を設定\n",
        "ax.legend()\n",
        "\n",
        "# グラフの画面表示\n",
        "plt.show()\n",
        "\n",
        "# グラフのクローズ\n",
        "plt.close(fig)"
      ],
      "metadata": {
        "id": "KJ6eRUZNpudr"
      },
      "execution_count": null,
      "outputs": []
    },
    {
      "cell_type": "markdown",
      "source": [
        "# 様々なグラフのご紹介\n",
        "ここからは、折れ線グラフ以外のグラフをご紹介します。本講義では、次のグラフについてご紹介します。\n",
        "\n",
        "* 散布図\n",
        "* ヒストグラム\n",
        "* ヒートマップ"
      ],
      "metadata": {
        "id": "d-Opo7F5mECt"
      }
    },
    {
      "cell_type": "markdown",
      "source": [
        "## 散布図\n",
        "散布図の作成には、matplotlib.pyplotモジュールの「<font color=\"red\">**scatterメソッド**</font>」を使用します。基本的な構文は次のとおりです。\n",
        "\n",
        "~~~\n",
        "Axesオブジェクト.scatter(X軸の配列, Y軸の配列)\n",
        "~~~\n",
        "\n",
        "ここでは、ある成分の含有率と硬さの関係をイメージしたデータを用いて散布図を作成してみます。\n",
        "\n",
        "次のような内容のCSVファイル(scatter.csv)を読み込んで、グラフを作成します。\n",
        "\n",
        "|Content|Hardness|\n",
        "|---|---|\n",
        "|0.51|23.3|\n",
        "|0.18|20.8|\n",
        "|0.46|23.9|\n",
        "|0.5|24.6|\n",
        "|以下略|以下略|\n",
        "\n",
        "例を見てみましょう。"
      ],
      "metadata": {
        "id": "p4iWx3sMmZLu"
      }
    },
    {
      "cell_type": "code",
      "source": [
        "import matplotlib.pyplot as plt\n",
        "import pandas as pd\n",
        "\n",
        "# CSVファイルをデータフレームに読み込む\n",
        "df = pd.read_csv(\"scatter.csv\")\n",
        "\n",
        "# Figureの作成\n",
        "fig = plt.figure()\n",
        "\n",
        "# Axesの作成\n",
        "ax = fig.subplots()\n",
        "\n",
        "# 散布図のプロット ★線グラフのplotをscatterに変更\n",
        "ax.scatter(df[\"Content\"], df[\"Hardness\"])\n",
        "\n",
        "# グラフのタイトルを設定\n",
        "ax.set_title(\"Sputter\")\n",
        "\n",
        "# 軸のラベルを設定\n",
        "ax.set_xlabel(\"Content\")\n",
        "ax.set_ylabel(\"Hardness\")\n",
        "\n",
        "# グラフの画面表示\n",
        "plt.show()\n",
        "\n",
        "# グラフのクローズ\n",
        "plt.close(fig)"
      ],
      "metadata": {
        "id": "_vjRPmJBoWTB"
      },
      "execution_count": null,
      "outputs": []
    },
    {
      "cell_type": "markdown",
      "source": [
        "正の相関が見られる散布図が作成されました。"
      ],
      "metadata": {
        "id": "zJtJtZRafbRN"
      }
    },
    {
      "cell_type": "markdown",
      "source": [
        "## ヒストグラム\n",
        "ヒストグラムの作成には、matplotlib.pyplotモジュールの「<font color=\"red\">**histメソッド**</font>」を使用します。基本的な構文は次のとおりです。\n",
        "\n",
        "~~~\n",
        "Axesオブジェクト.hist(データの配列, bins=ビン数)\n",
        "~~~\n",
        "\n",
        "ここでは、粒子径分布をイメージしたデータを用いてヒストグラムを作成してみます。\n",
        "\n",
        "次のような内容のCSVファイル(hist.csv)を読み込んで、グラフを作成します。\n",
        "\n",
        "|Particle size|\n",
        "|---|\n",
        "|48.1|\n",
        "|49.7|\n",
        "|2.9|\n",
        "|28.5|\n",
        "|以下略|\n",
        "\n",
        "例を見てみましょう。"
      ],
      "metadata": {
        "id": "kfAari_2oo3k"
      }
    },
    {
      "cell_type": "code",
      "source": [
        "import matplotlib.pyplot as plt\n",
        "import pandas as pd\n",
        "\n",
        "# CSVファイルをデータフレームに読み込む\n",
        "df = pd.read_csv(\"hist.csv\")\n",
        "\n",
        "# Figureの作成\n",
        "fig = plt.figure()\n",
        "\n",
        "# Axesの作成\n",
        "ax = fig.subplots()\n",
        "\n",
        "# ヒストグラムのプロット ★線グラフのplotをhistに変更\n",
        "ax.hist(df[\"Particle size\"], bins=10)\n",
        "\n",
        "# グラフのタイトルを設定\n",
        "ax.set_title(\"Histgram\")\n",
        "\n",
        "# 軸のラベルを設定\n",
        "ax.set_xlabel(\"Particle size (nm)\")\n",
        "ax.set_ylabel(\"Frequency\")\n",
        "\n",
        "# グラフの画面表示\n",
        "plt.show()\n",
        "\n",
        "# グラフのクローズ\n",
        "plt.close(fig)"
      ],
      "metadata": {
        "id": "k_TJQRwvo1u8"
      },
      "execution_count": null,
      "outputs": []
    },
    {
      "cell_type": "markdown",
      "source": [
        "データを10個の範囲に区切り、それぞれの出現頻度を示すヒストグラムが作成されました。"
      ],
      "metadata": {
        "id": "8rypLHrBgdpS"
      }
    },
    {
      "cell_type": "markdown",
      "source": [
        "## ヒートマップ\n",
        "ヒートマップの作成には、matplotlib.pyplotモジュールの「<font color=\"red\">**imshowメソッド**</font>」を使用します。基本的な構文は次のとおりです。\n",
        "\n",
        "~~~\n",
        "変数 = Axesオブジェクト.imshow(2次元配列)\n",
        "~~~\n",
        "\n",
        "変数には、「<font color=\"red\">**AxesImageオブジェクト**</font>」が格納されます。\n",
        "\n",
        "また、ヒートマップにはカラーバーを付けることができます。\n",
        "\n",
        "カラーバーは、Figureの部品(Artist)の一つとして作成されます。基本的な構文は次のとおりです。\n",
        "\n",
        "~~~\n",
        "Figureオブジェクト.colorbar(AxesImageオブジェクト)\n",
        "~~~\n",
        "\n",
        "ここでは、各座標の明るさを記録したイメージの2次元データを用いてヒートマップを作成してみます。\n",
        "\n",
        "次のような内容のCSVファイル(heatmap.csv)を読み込んで、ヒートマップを作成します。\n",
        "\n",
        "|||||||\n",
        "|---|---|---|---|---|---|\n",
        "|0|0|0|0|0|略|\n",
        "|0|1|1|2|2|略|\n",
        "|0|0|2|0|4|略|\n",
        "|0|1|0|2|2|略|\n",
        "|略|略|略|略|略|略|\n",
        "\n",
        "\n",
        "例を見てみましょう。"
      ],
      "metadata": {
        "id": "XaSwMw5ZqWOu"
      }
    },
    {
      "cell_type": "code",
      "source": [
        "import matplotlib.pyplot as plt\n",
        "import pandas as pd\n",
        "\n",
        "# CSVファイルをpandasのデータフレームへ読み込む\n",
        "df = pd.read_csv(\"heatmap.csv\")\n",
        "\n",
        "# Figureの作成\n",
        "fig = plt.figure()\n",
        "\n",
        "# Axesの作成\n",
        "ax = fig.subplots()\n",
        "\n",
        "# ヒートマップの作成\n",
        "im = ax.imshow(df)\n",
        "\n",
        "# カラーバーの作成\n",
        "fig.colorbar(im)\n",
        "\n",
        "# グラフのタイトルを設定\n",
        "ax.set_title(\"Heatmap\")\n",
        "\n",
        "# グラフの画面表示\n",
        "plt.show()\n",
        "\n",
        "# グラフのクローズ\n",
        "plt.close(fig)"
      ],
      "metadata": {
        "id": "NchcHFwnqoPH"
      },
      "execution_count": null,
      "outputs": []
    },
    {
      "cell_type": "markdown",
      "source": [
        "### カラーマップの変更\n",
        "Matplotlibではカラーマップが豊富に用意されており、簡単に変更出来ます。カラーマップは、imshowメソッドの引数で指定します。\n",
        "\n",
        "~~~\n",
        "変数 = Axesオブジェクト.imshow(2次元配列, cmap=カラーマップ名)\n",
        "~~~\n",
        "\n",
        "カラーマップ名は、\"binary\"、\"gray\"などの文字列で指定します。\n",
        "\n",
        "なお、引数にcmapを指定しない場合のデフォルトは、\"viridis\"というカラーマップ名です。\n",
        "\n",
        "ここでは、コントラストが分かりやすいためよく使われる、「jet」というカラーマップに変更する例を示します。\n",
        "\n",
        "次のソースコードを実行してみてください。先ほどのソースコードから変更されている箇所には、コメントに「★」を入れています。"
      ],
      "metadata": {
        "id": "_i9TDw0pnO4I"
      }
    },
    {
      "cell_type": "code",
      "source": [
        "import matplotlib.pyplot as plt\n",
        "import matplotlib.cm as cm\n",
        "import pandas as pd\n",
        "\n",
        "# CSVファイルをpandasのデータフレームへ読み込む\n",
        "df = pd.read_csv(\"heatmap.csv\")\n",
        "\n",
        "fig = plt.figure()\n",
        "ax = fig.subplots()\n",
        "\n",
        "# ヒートマップの作成 ★変更\n",
        "im = ax.imshow(df, cmap=\"jet\")\n",
        "\n",
        "# カラーバーの作成\n",
        "fig.colorbar(im)\n",
        "\n",
        "# グラフのタイトルを設定\n",
        "ax.set_title(\"Heatmap\")\n",
        "\n",
        "# グラフの画面表示\n",
        "plt.show()\n",
        "\n",
        "# グラフのクローズ\n",
        "plt.close(fig)"
      ],
      "metadata": {
        "id": "w5KgDsytqtiA"
      },
      "execution_count": null,
      "outputs": []
    },
    {
      "cell_type": "markdown",
      "source": [
        "以下のページにMatplotlibで選べるカラーマップ一覧がまとめられています。\n",
        "\n",
        "表示するデータやその形式によっても、適切なカラーマップは変わるかもしれません。好みのカラーマップを探してみましょう。\n",
        "\n",
        "https://matplotlib.org/stable/tutorials/colors/colormaps.html\n",
        "\n",
        "上記のソースコードで、\"jet\"の部分を色々と変えて動かしてみてください。たとえば下記などは、ちょっと面白い指定ですね。\n",
        "\n",
        "\"spring\", \"summer\", \"autumn\", \"winter\"\n",
        "\n",
        "\n",
        "ここまで、折れ線グラフ以外のいくつかのグラフについてご紹介しました。他にもMatplotlibには様々なグラフ作成機能がありますので、色々と調べて活用してみてください。"
      ],
      "metadata": {
        "id": "2hZ0tW68qvZf"
      }
    },
    {
      "cell_type": "markdown",
      "source": [
        "# 練習問題\n",
        "散布図とヒストグラムを横に並べた、次のようなグラフを作成してみましょう。\n",
        "\n",
        "![練習問題1](https://raw.githubusercontent.com/tendo-sms/python_seminar_2022/main/lecture5/figure/practice1.png)\n",
        "\n",
        "散布図とヒストグラム、それぞれの内容は、前述の例と同じものです。"
      ],
      "metadata": {
        "id": "FzGN-AwXj7z6"
      }
    },
    {
      "cell_type": "code",
      "source": [
        "import matplotlib.pyplot as plt\n",
        "import pandas as pd\n",
        "\n",
        "# CSVファイルをデータフレームに読み込む\n",
        "df1 = pd.read_csv(\"scatter.csv\")\n",
        "df2 = pd.read_csv(\"hist.csv\")\n",
        "\n",
        "# 以下、解答例\n",
        "\n",
        "# Figureの作成\n",
        "fig = plt.figure()\n",
        "\n",
        "# Axesの作成\n",
        "ax = fig.subplots(1, 2)\n",
        "\n",
        "# 散布図のプロット\n",
        "ax[0].scatter(df1[\"Content\"], df1[\"Hardness\"])\n",
        "ax[1].hist(df2[\"Particle size\"], bins=10)\n",
        "\n",
        "# グラフのタイトルを設定\n",
        "ax[0].set_title(\"Sputter\")\n",
        "ax[1].set_title(\"Histgram\")\n",
        "\n",
        "# 軸のラベルを設定\n",
        "ax[0].set_xlabel(\"Content\")\n",
        "ax[0].set_ylabel(\"Hardness\")\n",
        "ax[1].set_xlabel(\"Particle size (nm)\")\n",
        "ax[1].set_ylabel(\"Frequency\")\n",
        "\n",
        "# グラフの画面表示\n",
        "plt.show()\n",
        "\n",
        "# グラフのクローズ\n",
        "plt.close(fig)\n"
      ],
      "metadata": {
        "id": "nFU89LiUmtWJ"
      },
      "execution_count": null,
      "outputs": []
    },
    {
      "cell_type": "markdown",
      "source": [
        "# Axesインターフェースとpyplotインターフェース\n",
        "Matplotlibでグラフを作成する方法として、大きく分けると次の2つの方法があります。\n",
        "\n",
        "- Axesインターフェース (オブジェクト指向インタフェース)\n",
        "- pyplotインターフェース\n",
        "\n",
        "ここまでご紹介してきた例は、すべて「Axesインターフェース」を使ってきました。\n",
        "\n",
        "ごく簡単な折れ線グラフを例に、それぞれのインタフェースを使ったソースコードを比較してみます。\n",
        "\n",
        "まずは、Axesインターフェースを示します。これまでご紹介してきた作成方法です。"
      ],
      "metadata": {
        "id": "UvMqlvImTMMR"
      }
    },
    {
      "cell_type": "code",
      "source": [
        "import matplotlib.pyplot as plt\n",
        "\n",
        "# Figureの作成\n",
        "fig = plt.figure()\n",
        "\n",
        "# Axesの作成\n",
        "ax = fig.subplots()\n",
        "\n",
        "# 折れ線グラフのプロット\n",
        "ax.plot([1, 2, 3], [10, 100, 1000])\n",
        "\n",
        "# 軸のラベルを設定\n",
        "ax.set_xlabel(\"X-Axis\")\n",
        "ax.set_ylabel(\"Y-Axis\")\n",
        "\n",
        "# グラフの画面表示\n",
        "plt.show()\n",
        "\n",
        "# グラフのクローズ\n",
        "plt.close(fig)"
      ],
      "metadata": {
        "id": "IN1NFVpKCsIn"
      },
      "execution_count": null,
      "outputs": []
    },
    {
      "cell_type": "markdown",
      "source": [
        "次に、pyplotインタフェースのソースコードを示します。\n",
        "\n",
        "pyplotインタフェースは、数値計算に特化したプログラミング言語である「MATLAB」に近いイメージで操作できるよう、開発されたものです。"
      ],
      "metadata": {
        "id": "kLGUX0K9CwIo"
      }
    },
    {
      "cell_type": "code",
      "source": [
        "import matplotlib.pyplot as plt\n",
        "\n",
        "# 折れ線グラフのプロット\n",
        "plt.plot([1, 2, 3], [10, 100, 1000])\n",
        "\n",
        "# 軸のラベルを設定\n",
        "plt.xlabel(\"X-Axis\")\n",
        "plt.ylabel(\"Y-Axis\")\n",
        "\n",
        "# グラフの画面表示\n",
        "plt.show()\n",
        "\n",
        "# グラフのクローズ\n",
        "plt.close()"
      ],
      "metadata": {
        "id": "9nb-K4TEC174"
      },
      "execution_count": null,
      "outputs": []
    },
    {
      "cell_type": "markdown",
      "source": [
        "pyplotインタフェースでは、FigureやAxexを作成しなくても、同じグラフが書けました。軸のラベル設定もできています。\n",
        "\n",
        "pyplotインタフェースの方が楽で良い！と思われたかもしれませんが・・・あくまで、1つのグラフをお手軽に作るためのインタフェースです。\n",
        "\n",
        "Figure内に複数のグラフを書いたり、複雑な設定・装飾をする場合は、Axesインタフェースを使用する必要があります。\n",
        "\n",
        "特に気を付けなければいけないのは、「<font color=\"red\">**1つのプログラムで、2つのインタフェースを混在して使用しないこと**</font>」です。これを行ってしまうと、ソースコードの読みやすさやメンテナンスのしやすさという観点で、非常に分かりづらいプログラムとなってしまいます。\n",
        "\n",
        "次の例を見てみましょう。\n"
      ],
      "metadata": {
        "id": "AKc3GraQC_Ou"
      }
    },
    {
      "cell_type": "code",
      "source": [
        "import matplotlib.pyplot as plt\n",
        "\n",
        "# ★Axesインタフェース★で折れ線グラフを作成\n",
        "fig1 = plt.figure()\n",
        "ax1 = fig1.subplots()\n",
        "ax1.plot([0, 1, 2], [10, 100, 1000])\n",
        "\n",
        "# ★Axesインタフェース★で散布図を作成\n",
        "fig2 = plt.figure()\n",
        "ax2 = fig2.subplots()\n",
        "ax2.scatter([0, 1, 2, 3, 4], [50, 20, 30, 10, 20])\n",
        "\n",
        "# ★pyplotインタフェース★で軸にラベルを付与\n",
        "plt.xlabel(\"X-Axis\")\n",
        "plt.ylabel(\"Y-Axis\")\n",
        "\n",
        "# グラフの画面表示\n",
        "plt.show()\n",
        "\n",
        "# グラフのクローズ\n",
        "plt.close(fig1)\n",
        "plt.close(fig2)"
      ],
      "metadata": {
        "id": "kllJClNEkucm"
      },
      "execution_count": null,
      "outputs": []
    },
    {
      "cell_type": "markdown",
      "source": [
        "xlabel関数およびylabel関数によるラベル付けは、最後に作成されたAxesである散布図に付与されました。\n",
        "\n",
        "pyplotインタフェースによる操作は、暗黙的に「最後に作成したFigure/Axesオブジェクト」に対して行われます。このため、グラフ作成の順序を入れ替えたり、散布図作成の後に新しいグラフ作成を入れたりすると、ラベル付けをどのグラフに対して行うのかが変わってしまいます。\n",
        "\n",
        "このようにプログラムが分かりづらいものとなりますので、インタフェースを混在させるのはやめましょう。\n",
        "\n",
        "簡単なテスト用途など以外では、<font color=\"red\">**基本的にAxesインタフェースを使用することをお勧めします**</font>。Matplotlibのリファレンスでも、Axesインタフェースの使用が推奨されています。"
      ],
      "metadata": {
        "id": "fKkU_NbJkwql"
      }
    },
    {
      "cell_type": "markdown",
      "source": [
        "# [ご参考] Matplotlib以外でのグラフ作成\n",
        "Pythonでは、Matplotlib以外にも様々なグラフ作成のためのパッケージがあります。\n",
        "\n",
        "(とはいえ、裏でMatplotlibが動いているものがほとんどです。)\n",
        "\n",
        "ここでは、代表的な下記のパッケージをご紹介します。それぞれについての詳しいご説明はしませんが、参考にしてください。\n",
        "\n",
        "* pnadas\n",
        "* seaborn\n",
        "* Plotly\n",
        "* PyQtGraph"
      ],
      "metadata": {
        "id": "8IJAGiX-rJVV"
      }
    },
    {
      "cell_type": "markdown",
      "source": [
        "## pandas\n",
        "実はpandasにもplotメソッドがあり、簡単な折れ線グラフを作成できます。"
      ],
      "metadata": {
        "id": "0IS4FtZiralJ"
      }
    },
    {
      "cell_type": "code",
      "source": [
        "import pandas as pd\n",
        "\n",
        "df = pd.read_csv(\"spectrum1.csv\")\n",
        "df.plot(\"Wavelength\", \"Intensity\", linestyle=\"--\")"
      ],
      "metadata": {
        "id": "KvjleI05rfRj"
      },
      "execution_count": null,
      "outputs": []
    },
    {
      "cell_type": "markdown",
      "source": [
        "ただし、Google ColaboratoryやJupyter Notebookでは上記のソースコードでグラフを表示できますが、通常の環境では、結局Matplotlib.pyplotをインポートしてshow関数を使ったりしないとグラフが表示されません。\n",
        "\n",
        "(つまり、裏でMatplotlibが動いているということですね。)\n",
        "\n",
        "それであれば、グラフの作成もMatplotlibを使った方がよいでしょう。\n",
        "\n",
        "Google ColaboratoryやJupyter Notebookでのごく簡単な動作確認程度であれば使い道はありますが、基本的には覚える必要はないかと思います。"
      ],
      "metadata": {
        "id": "Es2Pe2gFEm6L"
      }
    },
    {
      "cell_type": "markdown",
      "source": [
        "## seaborn\n",
        "seabornは、Matplotlibをベースに、より見栄えのよいグラフを、より簡単に描画できるように作成されたパッケージです。\n",
        "\n",
        "例を見てみましょう。この例では、データサイエンスの世界で非常に有名な「iris」データセットについて、すべてのカラムを組み合わせたグラフを描画してくれます。"
      ],
      "metadata": {
        "id": "QsISi5a_rxtk"
      }
    },
    {
      "cell_type": "code",
      "source": [
        "import seaborn as sns\n",
        "\n",
        "iris = sns.load_dataset(\"iris\") \n",
        "sns.pairplot(iris)"
      ],
      "metadata": {
        "id": "EHlgoIOhr3OV"
      },
      "execution_count": null,
      "outputs": []
    },
    {
      "cell_type": "markdown",
      "source": [
        "## Plotly\n",
        "Plotlyは、2次元や3次元のインタラクティブなグラフを作成できるパッケージです。\n",
        "\n",
        "例を見てみましょう。作成したグラフは、マウスドラッグで回転させたり、マウスホイールで拡大・縮小ができたりします。"
      ],
      "metadata": {
        "id": "p0bedvVhsJLw"
      }
    },
    {
      "cell_type": "code",
      "source": [
        "import plotly.graph_objs as go\n",
        "import numpy as np\n",
        "\n",
        "# プロットデータの作成\n",
        "t = np.linspace(0, 10*np.pi, 1000)\n",
        "x = np.cos(t)\n",
        "y = np.sin(t)\n",
        "z = t\n",
        "\n",
        "# グラフを作成\n",
        "fig = go.Figure(data=go.Scatter3d(x=x, y=y, z=z, mode='lines'))\n",
        "fig.show()"
      ],
      "metadata": {
        "id": "berGCXR0sQ1H"
      },
      "execution_count": null,
      "outputs": []
    },
    {
      "cell_type": "markdown",
      "source": [
        "## PyQtGraph\n",
        "PyQtGraphは、PythonでGUIプログラムを作成するのによく使われるパッケージであるPyQt(またはPySide)と連携して、グラフを作成できるパッケージです。\n",
        "\n",
        "PyQtによるGUIプログラムの一部として利用しやすいことに加え、Matplotlibと比較してグラフの作成が高速であると言われています。\n",
        "\n",
        "こちらはGoogle Colaboratoryでの動作が難しいためソースコードのご紹介はできませんが、しっかりとしたGUIプログラムを作成したい場合などは、調べてみてください。"
      ],
      "metadata": {
        "id": "6s02FOpx1NZz"
      }
    },
    {
      "cell_type": "markdown",
      "source": [
        "第5回のメインであるグラフ作成についての講義は以上となります。\n",
        "\n",
        "Matplotlibも、第4回のpandasと同様に、限られた講義時間ではお伝えしきれないほどたくさんの機能があります。\n",
        "\n",
        "特に各関数およびメソッドの引数で設定できる装飾などは、ほんのごく一部しかご紹介できておりません。\n",
        "\n",
        "ぜひ、ご自身で調べて使いこなしてみてください。"
      ],
      "metadata": {
        "id": "oVzzwRqMsVhS"
      }
    },
    {
      "cell_type": "markdown",
      "source": [
        "# 第6回に向けた準備\n",
        "いよいよ、次の第6回が最終回となります。\n",
        "\n",
        "第6回では、課題をご提示して実際にみなさんにプログラムを作成してもらいます。これまでの演習問題のような小規模なものではなく、比較的大きなプログラムとなります。\n",
        "\n",
        "第5回までの講義では、みなさんの受講環境が様々であってもPython実行環境に関するトラブルが発生しないよう、Google Colaboratoryを使ってご説明してきました。\n",
        "\n",
        "しかし、実際に本格的な構造化プログラムを作成するときは、次のような理由から、Google ColaboratoryやJupyter Notebookで開発するのは効率がよくありません。\n",
        "\n",
        "* 1つのモジュール(.pyファイル)ではプログラムが完結せず、大きな機能ごとにモジュールを分割する必要がある。\n",
        "* プログラムが上手く動作せず調査をするときに、プログラム実行途中の変数の値などを確認したいことがある。\n",
        "\n",
        "そこで第6回の講義では、Google Colaboratoryを使用せず、第1回でご紹介した次の実行環境およびエディタを使って、プログラムの作成を行います。\n",
        "\n",
        "* Python実行環境として公式版Pythonを使用する。\n",
        "* ソースコードのエディタとしてVisual Studio Codeを使用する。\n",
        "\n",
        "公式版PythonおよびVisual Studio Codeについては、第1回講義資料の「Pythonの実行環境・エディタの紹介」でおさらいしておきましょう。\n",
        "\n",
        "https://colab.research.google.com/drive/17KmL3XUzeUwCQemdGrNbwroqHKy26K-p?usp=sharing"
      ],
      "metadata": {
        "id": "fDGnHvKWGdi5"
      }
    },
    {
      "cell_type": "markdown",
      "source": [
        "## 公式版PythonおよびVisual Studio Codeのインストール\n",
        "みなさんにプログラムを作成してもらうにあたり、可能な方は、第6回の講義開始までに公式版PythonおよびVisual Studio CodeをPCにインストールしておいていただけければと思います。\n",
        "\n",
        "ただし、みなさんの所属機関のルールなどで、ソフトウェアをインストールできない方もおられると思います。また、みなさんのPC環境や操作の習熟度などから、インストールが難しい方もおられると思います。\n",
        "\n",
        "そのため、公式版PythonおよびVisual Studio Codeのインストールは、みなさまのご判断・ご責任で実施をお願いします。例えば次のような方は、インストールをご検討いただければと思います。\n",
        "\n",
        "* すでに、公式版PythonとVisual Studio Codeの環境構築・利用の経験がある\n",
        "* 自由に試行錯誤できるPCを持っており、万が一トラブルがあっても業務・研究等に支障が生じない。\n",
        "\n",
        "ご参考として、WindowsおよびUbuntu用のインストール手順書を配布します。ただし、みなさんのPC環境は様々ですので、配布する手順書はあくまでご参考としていただき、各自でご自身の環境に対応したセットアップ方法を調べて取り組んでいただきますよう、お願いいたします。\n",
        "\n",
        "インストールが難しい方は、講義中はお手元のテキストエディタでソースコードの作成のみチャレンジして、実行については講師の解答例・実行デモをご覧いただいて学習するなど、工夫していただければと思います。\n",
        "\n",
        "(講義中にどなたかを指名して質問したりなどはしないので、ご安心ください。)\n",
        "\n",
        "それでは、最後の講義を楽しみにお待ちください。\n",
        "\n",
        "【注意事項】\n",
        "\n",
        "みなさまのPC環境やネットワーク環境等が多岐にわたることや、リモートでのご支援が難しいことから、公式版PythonおよびVisual Studio Codeのインストールについてはサポートすることができません。\n",
        "\n",
        "申し訳ございませんが、ご理解のほどよろしくお願いいたします。"
      ],
      "metadata": {
        "id": "rPDAs-4svfdo"
      }
    }
  ]
}