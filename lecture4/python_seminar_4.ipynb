{
  "nbformat": 4,
  "nbformat_minor": 0,
  "metadata": {
    "colab": {
      "provenance": [],
      "toc_visible": true
    },
    "kernelspec": {
      "name": "python3",
      "display_name": "Python 3"
    },
    "language_info": {
      "name": "python"
    }
  },
  "cells": [
    {
      "cell_type": "markdown",
      "source": [
        "# 申し訳ございません。公開開始の時間を1/25(水) 14時に変更とさせていただきます。"
      ],
      "metadata": {
        "id": "Fn0oKgscebci"
      }
    }
  ]
}