{
  "nbformat": 4,
  "nbformat_minor": 0,
  "metadata": {
    "colab": {
      "provenance": []
    },
    "kernelspec": {
      "name": "python3",
      "display_name": "Python 3"
    },
    "language_info": {
      "name": "python"
    }
  },
  "cells": [
    {
      "cell_type": "markdown",
      "source": [
        "# 公開日時を 12/21(水) 15:00 に変更させていただきます。\n",
        "# 申し訳ございませんが、よろしくお願いいたします。"
      ],
      "metadata": {
        "id": "Fn0oKgscebci"
      }
    }
  ]
}